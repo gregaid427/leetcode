{
 "cells": [
  {
   "cell_type": "markdown",
   "metadata": {},
   "source": [
    "# Given the head of a linked list, return the list after sorting it in ascending order.\n",
    "\n",
    "Follow up: Can you sort the linked list in O(n logn) time and O(1) memory (i.e. constant space)?\n",
    "\n",
    " \n",
    "\n",
    "Example 1:\n",
    "\n",
    "\n",
    "Input: head = [4,2,1,3]\n",
    "Output: [1,2,3,4]"
   ]
  },
  {
   "cell_type": "code",
   "execution_count": null,
   "metadata": {},
   "outputs": [],
   "source": [
    "# Definition for singly-linked list.\n",
    "# class ListNode:\n",
    "#     def __init__(self, val=0, next=None):\n",
    "#         self.val = val\n",
    "#         self.next = next\n",
    "class Solution:\n",
    "    def sortList(self, head: ListNode) -> ListNode:\n",
    "        if not head or not head.next:return head\n",
    "        slow=head\n",
    "        fast=head.next\n",
    "        \n",
    "        while fast and fast.next:\n",
    "            slow=slow.next\n",
    "            \n",
    "            fast=fast.next.next\n",
    "        midval=slow.next\n",
    "        \n",
    "        slow.next=None\n",
    "        return self.merge(self.sortList(head),self.sortList(midval))\n",
    "        \n",
    "        \n",
    "    def merge(self,a,b):\n",
    "        output=ListNode()\n",
    "        current=output\n",
    "        while a and b:\n",
    "            if a.val<=b.val:\n",
    "                current.next=a\n",
    "                a=a.next\n",
    "            else:\n",
    "                current.next=b\n",
    "                b=b.next\n",
    "            current=current.next\n",
    "         \n",
    "        if a:\n",
    "            current.next=a\n",
    "        elif b:\n",
    "            current.next=b\n",
    "        \n",
    "        return output.next"
   ]
  }
 ],
 "metadata": {
  "kernelspec": {
   "display_name": "Python 3",
   "language": "python",
   "name": "python3"
  },
  "language_info": {
   "codemirror_mode": {
    "name": "ipython",
    "version": 3
   },
   "file_extension": ".py",
   "mimetype": "text/x-python",
   "name": "python",
   "nbconvert_exporter": "python",
   "pygments_lexer": "ipython3",
   "version": "3.8.3"
  }
 },
 "nbformat": 4,
 "nbformat_minor": 4
}
