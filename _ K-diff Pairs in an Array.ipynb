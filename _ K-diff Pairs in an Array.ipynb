{
 "cells": [
  {
   "cell_type": "markdown",
   "metadata": {},
   "source": [
    "# Given an array of integers nums and an integer k, return the number of unique k-diff pairs in the array.\n",
    "\n",
    "A k-diff pair is an integer pair (nums[i], nums[j]), where the following are true:\n",
    "\n",
    "0 <= i, j < nums.length\n",
    "i != j\n",
    "|nums[i] - nums[j]| == k\n",
    "Notice that |val| denotes the absolute value of val.\n",
    "\n",
    " \n",
    "\n",
    "Example 1:\n",
    "\n",
    "Input: nums = [3,1,4,1,5], k = 2\n",
    "Output: 2\n",
    "Explanation: There are two 2-diff pairs in the array, (1, 3) and (3, 5).\n",
    "Although we have two 1s in the input, we should only return the number of unique pairs.\n",
    "Example 2:\n",
    "\n",
    "Input: nums = [1,2,3,4,5], k = 1\n",
    "Output: 4\n",
    "Explanation: There are four 1-diff pairs in the array, (1, 2), (2, 3), (3, 4) and (4, 5).\n",
    "Example 3:\n",
    "\n",
    "Input: nums = [1,3,1,5,4], k = 0\n",
    "Output: 1\n",
    "Explanation: There is one 0-diff pair in the array, (1, 1)."
   ]
  },
  {
   "cell_type": "code",
   "execution_count": 2,
   "metadata": {},
   "outputs": [],
   "source": [
    "class Solution:\n",
    "    def findPairs(self, nums: List[int], k: int) -> int:\n",
    "        if k==0:\n",
    "            num_zero = set([i for i in nums if nums.count(i)>1])\n",
    "            return len(num_zero)\n",
    "        else:\n",
    "            result = 0\n",
    "            nums = list(set(nums))\n",
    "            nums.sort()\n",
    "            for i in nums:\n",
    "                result += 1 if (k+i) in nums else 0\n",
    "                \n",
    "            return result"
   ]
  }
 ],
 "metadata": {
  "kernelspec": {
   "display_name": "Python 3",
   "language": "python",
   "name": "python3"
  },
  "language_info": {
   "codemirror_mode": {
    "name": "ipython",
    "version": 3
   },
   "file_extension": ".py",
   "mimetype": "text/x-python",
   "name": "python",
   "nbconvert_exporter": "python",
   "pygments_lexer": "ipython3",
   "version": "3.8.3"
  }
 },
 "nbformat": 4,
 "nbformat_minor": 4
}
