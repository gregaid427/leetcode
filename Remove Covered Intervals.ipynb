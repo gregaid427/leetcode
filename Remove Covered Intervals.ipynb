{
 "cells": [
  {
   "cell_type": "markdown",
   "metadata": {},
   "source": [
    "# Given a list of intervals, remove all intervals that are covered by another interval in the list.\n",
    "\n",
    "Interval [a,b) is covered by interval [c,d) if and only if c <= a and b <= d.\n",
    "\n",
    "After doing so, return the number of remaining intervals.\n",
    "Example 1:\n",
    "\n",
    "Input: intervals = [[1,4],[3,6],[2,8]]\n",
    "Output: 2\n",
    "Explanation: Interval [3,6] is covered by [2,8], therefore it is removed.\n",
    "Example 2:\n",
    "\n",
    "Input: intervals = [[1,4],[2,3]]\n",
    "Output: 1\n",
    "Example 3:\n",
    "\n",
    "Input: intervals = [[0,10],[5,12]]\n",
    "Output: 2\n",
    "Example 4:\n",
    "\n",
    "Input: intervals = [[3,10],[4,10],[5,11]]\n",
    "Output: 2\n",
    "Example 5:\n",
    "\n",
    "Input: intervals = [[1,2],[1,4],[3,4]]\n",
    "Output: 1\n",
    " \n",
    "\n",
    "Constraints:\n",
    "\n",
    "1 <= intervals.length <= 1000\n",
    "intervals[i].length == 2\n",
    "0 <= intervals[i][0] < intervals[i][1] <= 10^5\n",
    "All the intervals are unique."
   ]
  },
  {
   "cell_type": "code",
   "execution_count": null,
   "metadata": {},
   "outputs": [],
   "source": [
    "class Solution:\n",
    "    def removeCoveredIntervals(self, intervals: List[List[int]]) -> int:\n",
    "        intervals.sort(key = lambda x:x[0])\n",
    "        res = len(intervals)\n",
    "        for index,item in enumerate(intervals):\n",
    "            if index!=0:\n",
    "                prevPoint = intervals[index-1]\n",
    "                if prevPoint[0] == item[0]:\n",
    "                    intervals[index] = [item[0],max(prevPoint[1],item[1])]\n",
    "                    res-=1\n",
    "                elif prevPoint[1]>=item[1]:\n",
    "                    intervals[index] = [prevPoint[0],prevPoint[1]]\n",
    "                    res-=1\n",
    "        return res"
   ]
  }
 ],
 "metadata": {
  "kernelspec": {
   "display_name": "Python 3",
   "language": "python",
   "name": "python3"
  },
  "language_info": {
   "codemirror_mode": {
    "name": "ipython",
    "version": 3
   },
   "file_extension": ".py",
   "mimetype": "text/x-python",
   "name": "python",
   "nbconvert_exporter": "python",
   "pygments_lexer": "ipython3",
   "version": "3.8.3"
  }
 },
 "nbformat": 4,
 "nbformat_minor": 4
}
