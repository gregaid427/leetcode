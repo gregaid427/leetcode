219. Contains Duplicate II
Given an integer array nums and an integer k, return true if there are two distinct indices i and j in the array such that nums[i] == nums[j] and abs(i - j) <= k.

Example 1:

Input: nums = [1,2,3,1], k = 3
Output: true
Example 2:

Input: nums = [1,0,1,1], k = 1
Output: true
Example 3:

Input: nums = [1,2,3,1,2,3], k = 2
Output: false

Solution 1:
class Solution:
    def containsNearbyDuplicate(self, nums: List[int], k: int) -> bool:
        dic = {}
        for index, element in enumerate(nums):
            if element in dic and abs(dic[element] - index) <= k:
                return True
            dic[element] = index
        return False

Solution 2:
d = {}

for i in range(len(nums)):
    n = nums[i]
    # if a key is in dictionary      
    if n in d and  abs(d[n] - i) <= k:
        return True
    else: # if a key not in dictionary
        d[n] = i
