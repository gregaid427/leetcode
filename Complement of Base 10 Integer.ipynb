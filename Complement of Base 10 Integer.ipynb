{
 "cells": [
  {
   "cell_type": "markdown",
   "metadata": {},
   "source": [
    "# Every non-negative integer N has a binary representation.  For example, 5 can be represented as \"101\" in binary, 11 as \"1011\" in binary, and so on.  Note that except for N = 0, there are no leading zeroes in any binary representation.\n",
    "\n",
    "The complement of a binary representation is the number in binary you get when changing every 1 to a 0 and 0 to a 1.  For example, the complement of \"101\" in binary is \"010\" in binary.\n",
    "\n",
    "For a given number N in base-10, return the complement of it's binary representation as a base-10 integer.\n",
    "\n",
    " \n",
    "\n",
    "Example 1:\n",
    "\n",
    "Input: 5\n",
    "Output: 2\n",
    "Explanation: 5 is \"101\" in binary, with complement \"010\" in binary, which is 2 in base-10.\n",
    "Example 2:\n",
    "\n",
    "Input: 7\n",
    "Output: 0\n",
    "Explanation: 7 is \"111\" in binary, with complement \"000\" in binary, which is 0 in base-10."
   ]
  },
  {
   "cell_type": "code",
   "execution_count": null,
   "metadata": {},
   "outputs": [],
   "source": [
    "class Solution:\n",
    "    def bitwiseComplement(self, N: int) -> int:\n",
    "        ls=[]\n",
    "        x = bin(N).replace(\"0b\",\"\")\n",
    "        for i in range(len(x)):\n",
    "            if x[i]=='0':\n",
    "                ls.append('1')\n",
    "            else:\n",
    "                ls.append('0')\n",
    "        x = \"\".join(ls)\n",
    "        res = int(x,2)\n",
    "        return res"
   ]
  }
 ],
 "metadata": {
  "kernelspec": {
   "display_name": "Python 3",
   "language": "python",
   "name": "python3"
  },
  "language_info": {
   "codemirror_mode": {
    "name": "ipython",
    "version": 3
   },
   "file_extension": ".py",
   "mimetype": "text/x-python",
   "name": "python",
   "nbconvert_exporter": "python",
   "pygments_lexer": "ipython3",
   "version": "3.8.3"
  }
 },
 "nbformat": 4,
 "nbformat_minor": 4
}
