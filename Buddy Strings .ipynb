{
 "cells": [
  {
   "cell_type": "markdown",
   "metadata": {},
   "source": [
    "# Given two strings A and B of lowercase letters, return true if you can swap two letters in A so the result is equal to B, otherwise, return false.\n",
    "\n",
    "Swapping letters is defined as taking two indices i and j (0-indexed) such that i != j and swapping the characters at A[i] and A[j]. For example, swapping at indices 0 and 2 in \"abcd\" results in \"cbad\".\n",
    "\n",
    " \n",
    "\n",
    "Example 1:\n",
    "\n",
    "Input: A = \"ab\", B = \"ba\"\n",
    "Output: true\n",
    "Explanation: You can swap A[0] = 'a' and A[1] = 'b' to get \"ba\", which is equal to B. \n",
    "\n",
    "Example 2:\n",
    "\n",
    "Input: A = \"ab\", B = \"ab\"\n",
    "Output: false\n",
    "Explanation: The only letters you can swap are A[0] = 'a' and A[1] = 'b', which results in \"ba\" != B.\n",
    "\n",
    "Example 3:\n",
    "\n",
    "Input: A = \"aa\", B = \"aa\"\n",
    "Output: true\n",
    "Explanation: You can swap A[0] = 'a' and A[1] = 'a' to get \"aa\", which is equal to B.\n",
    "\n",
    "Example 4:\n",
    "\n",
    "Input: A = \"aaaaaaabc\", B = \"aaaaaaacb\"\n",
    "Output: true\n",
    "\n",
    "Example 5:\n",
    "\n",
    "Input: A = \"\", B = \"aa\"\n",
    "Output: false"
   ]
  },
  {
   "cell_type": "code",
   "execution_count": null,
   "metadata": {},
   "outputs": [],
   "source": [
    "class Solution:\n",
    "    def buddyStrings(self, A: str, B: str) -> bool:\n",
    "        ls = []\n",
    "        count=0\n",
    "        q = []\n",
    "        if A == B:\n",
    "            for i in A:\n",
    "                if i in q:\n",
    "                    return 'true'\n",
    "                q.append(i)\n",
    "            if ''.join(q) == A:\n",
    "                return False\n",
    "\n",
    "        if A == '' or B == '':\n",
    "            return False\n",
    "        \n",
    "        if len(A)!=len(B):\n",
    "            return False\n",
    "        ls_a = [i for i in A]\n",
    "        ls_B = [i for i in B]\n",
    "        ls_b = [i for i in B]\n",
    "        for i in ls_a:\n",
    "            if i in ls_b:\n",
    "                ls_b[ls_b.index(i)] = 'X'\n",
    "                ls.append(i)\n",
    "            else:\n",
    "                return False\n",
    "        if ls_a == ls:\n",
    "            for i in range(len(ls_B)):\n",
    "                if ls_B[i] != ls[i]:\n",
    "                    count+=1\n",
    "                \n",
    "            if count==2:\n",
    "                return True\n",
    "            return False\n",
    "        return False"
   ]
  },
  {
   "cell_type": "markdown",
   "metadata": {},
   "source": [
    "One more case is A=\"abab\" B=\"abab\" O/P is True.........This one was the most screwing up case"
   ]
  },
  {
   "cell_type": "code",
   "execution_count": null,
   "metadata": {},
   "outputs": [],
   "source": []
  }
 ],
 "metadata": {
  "kernelspec": {
   "display_name": "Python 3",
   "language": "python",
   "name": "python3"
  },
  "language_info": {
   "codemirror_mode": {
    "name": "ipython",
    "version": 3
   },
   "file_extension": ".py",
   "mimetype": "text/x-python",
   "name": "python",
   "nbconvert_exporter": "python",
   "pygments_lexer": "ipython3",
   "version": "3.8.3"
  }
 },
 "nbformat": 4,
 "nbformat_minor": 4
}
